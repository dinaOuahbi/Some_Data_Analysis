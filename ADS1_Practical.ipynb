{
  "nbformat": 4,
  "nbformat_minor": 0,
  "metadata": {
    "colab": {
      "name": "ADS1: Practical.ipynb",
      "provenance": [],
      "collapsed_sections": [],
      "authorship_tag": "ABX9TyPAtn9F+EBGLJe4mMF0AEIc",
      "include_colab_link": true
    },
    "kernelspec": {
      "name": "python3",
      "display_name": "Python 3"
    },
    "language_info": {
      "name": "python"
    }
  },
  "cells": [
    {
      "cell_type": "markdown",
      "metadata": {
        "id": "view-in-github",
        "colab_type": "text"
      },
      "source": [
        "<a href=\"https://colab.research.google.com/github/dinaOuahbi/Python/blob/main/ADS1_Practical.ipynb\" target=\"_parent\"><img src=\"https://colab.research.google.com/assets/colab-badge.svg\" alt=\"Open In Colab\"/></a>"
      ]
    },
    {
      "cell_type": "code",
      "source": [
        "# DEFINE STRING\n",
        "seq = 'ATGCTGACGATC'\n",
        "seq = \"ATGCTGACGATC\""
      ],
      "metadata": {
        "id": "-93ov-gtiO0A"
      },
      "execution_count": null,
      "outputs": []
    },
    {
      "cell_type": "code",
      "source": [
        "# Indexing on string   \n",
        "j = 0\n",
        "for _ in range(len(seq)):\n",
        "  space = '\\t'*j\n",
        "  print(space, seq[_])\n",
        "  j+=1\n"
      ],
      "metadata": {
        "colab": {
          "base_uri": "https://localhost:8080/"
        },
        "id": "F--L57SRBpDS",
        "outputId": "e0f8b685-69c2-4ad5-c3f9-91016651bb8d"
      },
      "execution_count": null,
      "outputs": [
        {
          "output_type": "stream",
          "name": "stdout",
          "text": [
            " A\n",
            "\t T\n",
            "\t\t G\n",
            "\t\t\t C\n",
            "\t\t\t\t T\n",
            "\t\t\t\t\t G\n",
            "\t\t\t\t\t\t A\n",
            "\t\t\t\t\t\t\t C\n",
            "\t\t\t\t\t\t\t\t G\n",
            "\t\t\t\t\t\t\t\t\t A\n",
            "\t\t\t\t\t\t\t\t\t\t T\n",
            "\t\t\t\t\t\t\t\t\t\t\t C\n"
          ]
        }
      ]
    },
    {
      "cell_type": "code",
      "source": [
        "# Lenght string\n",
        "len(seq)"
      ],
      "metadata": {
        "colab": {
          "base_uri": "https://localhost:8080/"
        },
        "id": "ulGkwTAkBt7r",
        "outputId": "da5f6208-d31d-45a5-ebc9-5ed4c940e3f3"
      },
      "execution_count": null,
      "outputs": [
        {
          "output_type": "execute_result",
          "data": {
            "text/plain": [
              "12"
            ]
          },
          "metadata": {},
          "execution_count": 3
        }
      ]
    },
    {
      "cell_type": "code",
      "source": [
        "# Empty string\n",
        "empty_seq = ''"
      ],
      "metadata": {
        "id": "XaEFRRw6Bzki"
      },
      "execution_count": null,
      "outputs": []
    },
    {
      "cell_type": "code",
      "source": [
        "# Concatenate two trings with +\n",
        "seq1 = seq[::-1]\n",
        "merge = seq+seq1\n",
        "print(merge)"
      ],
      "metadata": {
        "colab": {
          "base_uri": "https://localhost:8080/"
        },
        "id": "Djj7WWa0B1hL",
        "outputId": "f1f1adc6-9ad1-4b6c-e3b3-ede2449b8110"
      },
      "execution_count": null,
      "outputs": [
        {
          "output_type": "stream",
          "name": "stdout",
          "text": [
            "ATGCTGACGATCCTAGCAGTCGTA\n"
          ]
        }
      ]
    },
    {
      "cell_type": "code",
      "source": [
        "# Concat stings with join function \n",
        "seqs = ['A', 'T', 'G', 'G']\n",
        "print(''.join(seqs))\n",
        "print('\\t'.join(seqs))\n",
        "merge = [seq, seq1]\n",
        "print(''.join(merge))"
      ],
      "metadata": {
        "colab": {
          "base_uri": "https://localhost:8080/"
        },
        "id": "9JiYUG_AB5gh",
        "outputId": "8100e8eb-1659-4e5b-d226-3f860dc1a6ef"
      },
      "execution_count": null,
      "outputs": [
        {
          "output_type": "stream",
          "name": "stdout",
          "text": [
            "ATGG\n",
            "A\tT\tG\tG\n",
            "ATGCTGACGATCCTAGCAGTCGTA\n"
          ]
        }
      ]
    },
    {
      "cell_type": "code",
      "source": [
        "# Define random string\n",
        "import random \n",
        "merge = seq+seq1\n",
        "random.choice(merge)\n",
        "rd = []\n",
        "for _ in range(len(merge)):\n",
        "  temp = random.choice(merge)\n",
        "  rd.append(temp)\n",
        "\n",
        "random_seq = ''.join(rd)\n",
        "\n",
        "print(merge)\n",
        "print(random_seq)\n",
        "\n"
      ],
      "metadata": {
        "colab": {
          "base_uri": "https://localhost:8080/"
        },
        "id": "ufp-NPa4CEBQ",
        "outputId": "9d2193aa-0f01-483f-abf7-6686168b2786"
      },
      "execution_count": null,
      "outputs": [
        {
          "output_type": "stream",
          "name": "stdout",
          "text": [
            "ATGCTGACGATCCTAGCAGTCGTA\n",
            "CGAGTCGGAGAGCACTCGATTCTG\n"
          ]
        }
      ]
    },
    {
      "cell_type": "code",
      "source": [
        "# Define same random string\n",
        "\n",
        "tirage, temp, seed = 10, 0, random.randint(0,10)\n",
        "tir_list = []\n",
        "for _ in range(tirage):\n",
        "  random.seed(seed)\n",
        "  temp  = random.choice(merge)\n",
        "  tir_list.append(temp)\n",
        "\n",
        "random_seq = ''.join(tir_list)\n",
        "print(merge)\n",
        "print(random_seq)\n",
        "\n",
        "\n",
        "  \n"
      ],
      "metadata": {
        "colab": {
          "base_uri": "https://localhost:8080/"
        },
        "id": "WCoAZDdUCMKl",
        "outputId": "719d704a-435e-4764-c82c-2485107e7063"
      },
      "execution_count": null,
      "outputs": [
        {
          "output_type": "stream",
          "name": "stdout",
          "text": [
            "ATGCTGACGATCCTAGCAGTCGTA\n",
            "GGGGGGGGGG\n"
          ]
        }
      ]
    },
    {
      "cell_type": "code",
      "source": [
        "# Define random strings, add them to a string, in for loop\n",
        "s = ''\n",
        "for _ in range(len(merge)):\n",
        "  s +=random.choice(merge)\n",
        "s"
      ],
      "metadata": {
        "colab": {
          "base_uri": "https://localhost:8080/",
          "height": 36
        },
        "id": "qh3qi1juCTpl",
        "outputId": "c6728abf-0484-418b-a8a0-4f2eea3225ba"
      },
      "execution_count": null,
      "outputs": [
        {
          "output_type": "execute_result",
          "data": {
            "application/vnd.google.colaboratory.intrinsic+json": {
              "type": "string"
            },
            "text/plain": [
              "'TTGGAAAGGCGTCGTGCACTTTTC'"
            ]
          },
          "metadata": {},
          "execution_count": 9
        }
      ]
    },
    {
      "cell_type": "code",
      "source": [
        "# Define random strings, add them to a string, in a list comprehension\n",
        "s = ''.join([random.choice(merge) for _ in range(len(merge))]) \n",
        "s"
      ],
      "metadata": {
        "colab": {
          "base_uri": "https://localhost:8080/",
          "height": 36
        },
        "id": "2fSsOKqOCkaW",
        "outputId": "8a698d93-2795-4eb5-db82-e90baba86ddb"
      },
      "execution_count": null,
      "outputs": [
        {
          "output_type": "execute_result",
          "data": {
            "application/vnd.google.colaboratory.intrinsic+json": {
              "type": "string"
            },
            "text/plain": [
              "'CTAGGAGGAGCTACATCTGACTAA'"
            ]
          },
          "metadata": {},
          "execution_count": 10
        }
      ]
    },
    {
      "cell_type": "code",
      "source": [
        "# Slicing on a string\n",
        "print(merge)\n",
        "print(merge[1:5])\n",
        "print(merge[::-1])\n",
        "print(merge[::-2])\n",
        "print(merge[::-2])\n",
        "print(merge[1:])\n",
        "print(merge[:-1])"
      ],
      "metadata": {
        "colab": {
          "base_uri": "https://localhost:8080/"
        },
        "id": "cXq-uXQFCyFr",
        "outputId": "cb505c47-fc9e-4384-ef02-cef9338dfdb5"
      },
      "execution_count": null,
      "outputs": [
        {
          "output_type": "stream",
          "name": "stdout",
          "text": [
            "ATGCTGACGATCCTAGCAGTCGTA\n",
            "TGCT\n",
            "ATGCTGACGATCCTAGCAGTCGTA\n",
            "AGTAGTCACGCT\n",
            "AGTAGTCACGCT\n",
            "TGCTGACGATCCTAGCAGTCGTA\n",
            "ATGCTGACGATCCTAGCAGTCGT\n"
          ]
        }
      ]
    },
    {
      "cell_type": "code",
      "source": [
        "'''\n",
        "       MANIPULATE DNA STRINGS \n",
        "'''"
      ],
      "metadata": {
        "colab": {
          "base_uri": "https://localhost:8080/",
          "height": 36
        },
        "id": "9_vHuULbIi6q",
        "outputId": "1e9b4560-e006-4077-b678-5769fc4cbff9"
      },
      "execution_count": null,
      "outputs": [
        {
          "output_type": "execute_result",
          "data": {
            "application/vnd.google.colaboratory.intrinsic+json": {
              "type": "string"
            },
            "text/plain": [
              "'\\n       MANIPULATE DNA STRINGS \\n'"
            ]
          },
          "metadata": {},
          "execution_count": 12
        }
      ]
    },
    {
      "cell_type": "code",
      "source": [
        "# DEFINE A LONGEST COMMON PREFIX FUNCTION BETWEEN TWO SEQUENCE\n",
        "def longestCommonPrefix(s1, s2):\n",
        "  i = 0\n",
        "  while i<len(s1) and i<len(s2) and s1[i] == s2[i]:\n",
        "    i+=1\n",
        "  return s1[:i]\n",
        "longestCommonPrefix('ATGAT', 'ATGTA')"
      ],
      "metadata": {
        "colab": {
          "base_uri": "https://localhost:8080/",
          "height": 36
        },
        "id": "YWzZTia_NVDG",
        "outputId": "cd8c5a8e-6ef4-4b74-f8d4-f2fd436c6ca0"
      },
      "execution_count": null,
      "outputs": [
        {
          "output_type": "execute_result",
          "data": {
            "application/vnd.google.colaboratory.intrinsic+json": {
              "type": "string"
            },
            "text/plain": [
              "'ATG'"
            ]
          },
          "metadata": {},
          "execution_count": 13
        }
      ]
    },
    {
      "cell_type": "code",
      "source": [
        "# DEFINE A MATCH FUNCTION\n",
        "def match(s1, s2):\n",
        "  if len(s1) != len(s2):\n",
        "    return False\n",
        "\n",
        "  for i in range(len(s1)):\n",
        "    if s1[i] != s2[i]:\n",
        "      return False\n",
        "  return True\n",
        "\n",
        "match('ATG', 'ATG')\n"
      ],
      "metadata": {
        "colab": {
          "base_uri": "https://localhost:8080/"
        },
        "id": "QBr4DDE0NYm5",
        "outputId": "cea0fb1a-e4cb-4fbc-9c7d-e3d87bb69342"
      },
      "execution_count": null,
      "outputs": [
        {
          "output_type": "execute_result",
          "data": {
            "text/plain": [
              "True"
            ]
          },
          "metadata": {},
          "execution_count": 14
        }
      ]
    },
    {
      "cell_type": "code",
      "source": [
        "# fonctionality already exist\n",
        "'ATG' == 'ATG'"
      ],
      "metadata": {
        "colab": {
          "base_uri": "https://localhost:8080/"
        },
        "id": "CojD3fLLQ9sW",
        "outputId": "2361376a-a3c3-4d88-8e10-d0a7aa1e23ae"
      },
      "execution_count": null,
      "outputs": [
        {
          "output_type": "execute_result",
          "data": {
            "text/plain": [
              "True"
            ]
          },
          "metadata": {},
          "execution_count": 15
        }
      ]
    },
    {
      "cell_type": "code",
      "source": [
        "# DEFINE A REVERSE COMPLEMENT FUNCTION\n",
        "complement = {'A':'T', 'T':'A', 'G':'C', 'C':'G', 'N':'N'}\n",
        "def reverseComplement(s):\n",
        "  t = ''\n",
        "  for base in s:\n",
        "    t = complement[base] + t\n",
        "  return t\n",
        "\n",
        "reverseComplement('ATGCATAA')\n"
      ],
      "metadata": {
        "colab": {
          "base_uri": "https://localhost:8080/",
          "height": 36
        },
        "id": "Xqo1_uKXN0K2",
        "outputId": "4c6f734f-5417-452b-a452-0bdc4492c38e"
      },
      "execution_count": null,
      "outputs": [
        {
          "output_type": "execute_result",
          "data": {
            "application/vnd.google.colaboratory.intrinsic+json": {
              "type": "string"
            },
            "text/plain": [
              "'TTATGCAT'"
            ]
          },
          "metadata": {},
          "execution_count": 47
        }
      ]
    },
    {
      "cell_type": "code",
      "source": [
        "# DOWNLOAD fasta file with wget\n",
        "!wget --no-check https://www.google.fr/url?sa=t&rct=j&q=&esrc=s&source=web&cd=&ved=2ahUKEwiozd6Bj_D1AhV1_rsIHbCXB14QFnoECAQQAQ&url=https%3A%2F%2Fd28rh4a8wq0iu5.cloudfront.net%2Fads1%2Fdata%2Flambda_virus.fa&usg=AOvVaw3OeKCJgxE4PoyVaCtdJfNG"
      ],
      "metadata": {
        "colab": {
          "base_uri": "https://localhost:8080/"
        },
        "id": "Spr69djDTWQN",
        "outputId": "f5a8fcaa-b8e4-4d8f-a6c9-b4579f533e2d"
      },
      "execution_count": null,
      "outputs": [
        {
          "output_type": "stream",
          "name": "stdout",
          "text": [
            "--2022-02-10 09:56:46--  https://www.google.fr/url?sa=t\n",
            "Resolving www.google.fr (www.google.fr)... 74.125.204.94, 2404:6800:4008:c04::5e\n",
            "Connecting to www.google.fr (www.google.fr)|74.125.204.94|:443... connected.\n",
            "HTTP request sent, awaiting response... 200 OK\n",
            "Length: unspecified [text/html]\n",
            "Saving to: ‘url?sa=t’\n",
            "\n",
            "\rurl?sa=t                [<=>                 ]       0  --.-KB/s               \rurl?sa=t                [ <=>                ]   1.64K  --.-KB/s    in 0s      \n",
            "\n",
            "2022-02-10 09:56:46 (27.5 MB/s) - ‘url?sa=t’ saved [1679]\n",
            "\n"
          ]
        }
      ]
    },
    {
      "cell_type": "code",
      "source": [
        "# DEFINE READ GENOME FUNCTION \n",
        "def readGenome(filename):\n",
        "  genome = ''\n",
        "  with open(filename) as f:\n",
        "    for line in f:\n",
        "      if not line[0] == '>':\n",
        "        genome += line.rstrip()\n",
        "  return genome\n",
        "\n",
        "genome = readGenome('lambda_virus.fa')"
      ],
      "metadata": {
        "id": "JfWn0QGOUbk0"
      },
      "execution_count": null,
      "outputs": []
    },
    {
      "cell_type": "code",
      "source": [
        "genome[:100]"
      ],
      "metadata": {
        "colab": {
          "base_uri": "https://localhost:8080/",
          "height": 54
        },
        "id": "YOug-B0BUheP",
        "outputId": "cc5f9973-7034-47b8-8b16-98e5b490b128"
      },
      "execution_count": null,
      "outputs": [
        {
          "output_type": "execute_result",
          "data": {
            "application/vnd.google.colaboratory.intrinsic+json": {
              "type": "string"
            },
            "text/plain": [
              "'GGGCGGCGACCTCGCGGGTTTTCGCTATTTATGAAAATTTTCCGGTTTAAGGCGTTTCCGTTCTTCTTCGTCATAACTTAATGTTTTTATTTAAAATACC'"
            ]
          },
          "metadata": {},
          "execution_count": 19
        }
      ]
    },
    {
      "cell_type": "code",
      "source": [
        "len(genome)"
      ],
      "metadata": {
        "colab": {
          "base_uri": "https://localhost:8080/"
        },
        "id": "UhC2aKSAbTDI",
        "outputId": "09715df0-fd0d-41f6-a32f-4d3d537628c1"
      },
      "execution_count": null,
      "outputs": [
        {
          "output_type": "execute_result",
          "data": {
            "text/plain": [
              "48502"
            ]
          },
          "metadata": {},
          "execution_count": 20
        }
      ]
    },
    {
      "cell_type": "code",
      "source": [
        "#let's count the bases in genome\n",
        "counts = {'A':0, 'C':0, 'T':0, 'G':0, 'N':0}\n",
        "for base in genome:\n",
        "  counts[base] +=1\n",
        "\n",
        "print(counts)\n"
      ],
      "metadata": {
        "colab": {
          "base_uri": "https://localhost:8080/"
        },
        "id": "pz79WJOvbbYZ",
        "outputId": "25a7cf1f-1536-43c0-cf20-d61921913756"
      },
      "execution_count": null,
      "outputs": [
        {
          "output_type": "stream",
          "name": "stdout",
          "text": [
            "{'A': 12334, 'C': 11362, 'T': 11986, 'G': 12820, 'N': 0}\n"
          ]
        }
      ]
    },
    {
      "cell_type": "code",
      "source": [
        "# counts using python module\n",
        "import collections\n",
        "collections.Counter(genome)"
      ],
      "metadata": {
        "colab": {
          "base_uri": "https://localhost:8080/"
        },
        "id": "1g1dVHARb_o7",
        "outputId": "f69ad06a-a389-4fd8-f539-634a73fdda7b"
      },
      "execution_count": null,
      "outputs": [
        {
          "output_type": "execute_result",
          "data": {
            "text/plain": [
              "Counter({'A': 12334, 'C': 11362, 'G': 12820, 'T': 11986})"
            ]
          },
          "metadata": {},
          "execution_count": 22
        }
      ]
    },
    {
      "cell_type": "code",
      "source": [
        "!wget --no-check http://d28rh4a8wq0iu5.cloudfront.net/ads1/data/SRR835775_1.first1000.fastq"
      ],
      "metadata": {
        "colab": {
          "base_uri": "https://localhost:8080/"
        },
        "id": "ja3sUnVmcOFo",
        "outputId": "3a429efb-e34f-4bba-8f83-456a4d2ef942"
      },
      "execution_count": null,
      "outputs": [
        {
          "output_type": "stream",
          "name": "stdout",
          "text": [
            "--2022-02-10 09:56:46--  http://d28rh4a8wq0iu5.cloudfront.net/ads1/data/SRR835775_1.first1000.fastq\n",
            "Resolving d28rh4a8wq0iu5.cloudfront.net (d28rh4a8wq0iu5.cloudfront.net)... 13.225.0.220, 13.225.0.166, 13.225.0.44, ...\n",
            "Connecting to d28rh4a8wq0iu5.cloudfront.net (d28rh4a8wq0iu5.cloudfront.net)|13.225.0.220|:80... connected.\n",
            "HTTP request sent, awaiting response... 200 OK\n",
            "Length: 224786 (220K) [application/octet-stream]\n",
            "Saving to: ‘SRR835775_1.first1000.fastq’\n",
            "\n",
            "SRR835775_1.first10 100%[===================>] 219.52K  64.9KB/s    in 3.4s    \n",
            "\n",
            "2022-02-10 09:56:51 (64.9 KB/s) - ‘SRR835775_1.first1000.fastq’ saved [224786/224786]\n",
            "\n"
          ]
        }
      ]
    },
    {
      "cell_type": "code",
      "source": [
        "# create functon readfastq\n",
        "with open('SRR835775_1.first1000.fastq') as f:\n",
        "  print(type(f))\n"
      ],
      "metadata": {
        "colab": {
          "base_uri": "https://localhost:8080/"
        },
        "id": "5L6tg4ymdeN1",
        "outputId": "4213c7ee-a75f-4e1f-a533-d7972d1b12dd"
      },
      "execution_count": null,
      "outputs": [
        {
          "output_type": "stream",
          "name": "stdout",
          "text": [
            "<class '_io.TextIOWrapper'>\n"
          ]
        }
      ]
    },
    {
      "cell_type": "code",
      "source": [
        "def readFastq(filename):\n",
        "  sequences = []\n",
        "  qualities = []\n",
        "  with open(filename) as fh:\n",
        "    while True:\n",
        "      fh.readline()\n",
        "      seq = fh.readline().rstrip()\n",
        "      fh.readline()\n",
        "      qua = fh.readline().rstrip()\n",
        "      if len(seq) == 0:\n",
        "        break\n",
        "      sequences.append(seq)\n",
        "      qualities.append(qua)\n",
        "  return sequences, qualities\n",
        "\n",
        "seqs, quals = readFastq('SRR835775_1.first1000.fastq')"
      ],
      "metadata": {
        "id": "FQThYbSYeu0D"
      },
      "execution_count": null,
      "outputs": []
    },
    {
      "cell_type": "code",
      "source": [
        "seqs[:5]"
      ],
      "metadata": {
        "colab": {
          "base_uri": "https://localhost:8080/"
        },
        "id": "pLbv0E2SgXW7",
        "outputId": "f5ccaa24-f2c2-4a2d-bdc6-ba8bb0e453e2"
      },
      "execution_count": null,
      "outputs": [
        {
          "output_type": "execute_result",
          "data": {
            "text/plain": [
              "['TAACCCTAACCCTAACCCTAACCCTAACCCTAACCCTAACCCTAACCCTAACCCTCACCCTAACCCTAACCCTAACCGTATCCGTCACCCTAACCCTAAC',\n",
              " 'TAACCCTAACCCTAACCCTAACCCTAACCCTAACCCTAACCCTAACCCTAACCCTACCCTAACCCTAACCCTAACCCTAACCCTAACCCTAACCCTAACC',\n",
              " 'TAGGGTTAGGGTTAGGGTTAGGGTTAGGGTTAGGGTTAGGGTTAGGGTTAGGGTTAGGGTTAGGGTTAGGGTTAGGGTTAGGGTTAGGGTTAGGGTTAGG',\n",
              " 'TAGGGTTAGGGTTAGGGTTAGGGTTAGGGTTAGGGTTAGGGTTAGGGTTAGGGTTAGGGTTAGGGTTAAGGGTTGGGGGTTAGGGGTAGGGGTAGGGTTA',\n",
              " 'CTAACCCTAACCCTAACCCTAACCCTACCCTAACCCTAACCCTAACCCTAACCCTAACCCTAACCCTAACCCTAACCCAACCCTAACCCTAACCCTCACC']"
            ]
          },
          "metadata": {},
          "execution_count": 26
        }
      ]
    },
    {
      "cell_type": "code",
      "source": [
        "quals[:5]"
      ],
      "metadata": {
        "colab": {
          "base_uri": "https://localhost:8080/"
        },
        "id": "4hg6HJzPgatz",
        "outputId": "9ed70d30-e4c1-4edb-b759-f2e0af18ac6c"
      },
      "execution_count": null,
      "outputs": [
        {
          "output_type": "execute_result",
          "data": {
            "text/plain": [
              "['???B1ADDD8??BB+C?B+:AA883CEE8?C3@DDD3)?D2;DC?8?=BAD=@C@(.6.6=A?=?@##################################',\n",
              " 'CCCFFFFFGHHGHJJJJJIJGIIJJJJJJJIJIJJJJJFJJFGIIIIH=CBFCF=CCEG)=>EHB2@@DEC>;;?=;(=?BBD?59?BA###########',\n",
              " '@@<DD?DDHHH<CBHII:CFGIGAGHIIG?CCGGE0BDHIIHIGICH8=FHGI=@EHGGGEEHH>);?CC@.;(=;?59,5<A599?CB>ABBCB><88A',\n",
              " '@CCFFDDFHHHDFHIJJCGGIJJHIIHJC?DHHIJ0?DGHI9BBFHICGGIGI=CDEGI=?AAEF7@?################################',\n",
              " '@<@FDFDDBBFHH@EBGGGEH@FFHE;EHIEGGBHG?)9?8BDGGBGGBCDGI=93=C6==C;CCD(?@>@#############################']"
            ]
          },
          "metadata": {},
          "execution_count": 27
        }
      ]
    },
    {
      "cell_type": "code",
      "source": [
        "# convert ascci encode into a score with ord function (+ removing 33 due to technology that was used here)\n",
        "def phred33ToQ(qual):\n",
        "  return ord(qual) - 33"
      ],
      "metadata": {
        "id": "es7iU4ldgc8Y"
      },
      "execution_count": null,
      "outputs": []
    },
    {
      "cell_type": "code",
      "source": [
        "# create a histogram of quality scores\n",
        "def createHist(qualities):\n",
        "  hist = [0] * 50 # Actualy, the quality value range from 0 to 50\n",
        "  for qual in qualities:\n",
        "    for phred in qual:\n",
        "      q = phred33ToQ(phred)\n",
        "      hist[q] +=1\n",
        "  return hist\n",
        "\n",
        "h = createHist(quals)\n",
        "\n",
        "# the index is the score value, and the v is the count of each score value\n",
        "for i, v in enumerate(h):\n",
        "  print(i,' ==> ',v)\n"
      ],
      "metadata": {
        "colab": {
          "base_uri": "https://localhost:8080/"
        },
        "id": "5flBPb6Ugr0G",
        "outputId": "18dbcbde-94f7-4d92-9dfb-9db0ce34bfcf"
      },
      "execution_count": null,
      "outputs": [
        {
          "output_type": "stream",
          "name": "stdout",
          "text": [
            "0  ==>  0\n",
            "1  ==>  0\n",
            "2  ==>  6178\n",
            "3  ==>  0\n",
            "4  ==>  0\n",
            "5  ==>  54\n",
            "6  ==>  108\n",
            "7  ==>  574\n",
            "8  ==>  345\n",
            "9  ==>  83\n",
            "10  ==>  193\n",
            "11  ==>  124\n",
            "12  ==>  79\n",
            "13  ==>  165\n",
            "14  ==>  49\n",
            "15  ==>  236\n",
            "16  ==>  184\n",
            "17  ==>  327\n",
            "18  ==>  514\n",
            "19  ==>  238\n",
            "20  ==>  531\n",
            "21  ==>  254\n",
            "22  ==>  313\n",
            "23  ==>  798\n",
            "24  ==>  992\n",
            "25  ==>  888\n",
            "26  ==>  1396\n",
            "27  ==>  1488\n",
            "28  ==>  993\n",
            "29  ==>  1752\n",
            "30  ==>  3387\n",
            "31  ==>  4487\n",
            "32  ==>  3248\n",
            "33  ==>  5476\n",
            "34  ==>  8375\n",
            "35  ==>  11814\n",
            "36  ==>  4243\n",
            "37  ==>  7827\n",
            "38  ==>  6579\n",
            "39  ==>  8179\n",
            "40  ==>  9349\n",
            "41  ==>  8180\n",
            "42  ==>  0\n",
            "43  ==>  0\n",
            "44  ==>  0\n",
            "45  ==>  0\n",
            "46  ==>  0\n",
            "47  ==>  0\n",
            "48  ==>  0\n",
            "49  ==>  0\n"
          ]
        }
      ]
    },
    {
      "cell_type": "code",
      "source": [
        "%matplotlib inline\n",
        "import matplotlib.pyplot as plt\n",
        "plt.bar(range(len(h)), h, color='red', alpha=0.6)\n",
        "plt.xlabel('Quality values')\n",
        "plt.ylabel('Counts')\n",
        "plt.title('Distribution of reads quality')\n",
        "plt.grid(True)"
      ],
      "metadata": {
        "colab": {
          "base_uri": "https://localhost:8080/",
          "height": 295
        },
        "id": "4yNjb7Y5hlhA",
        "outputId": "f51fee9b-67d5-4312-ec8e-2776edf26708"
      },
      "execution_count": null,
      "outputs": [
        {
          "output_type": "display_data",
          "data": {
            "image/png": "[encoded data removed]",
            "text/plain": [
              "<Figure size 432x288 with 1 Axes>"
            ]
          },
          "metadata": {
            "needs_background": "light"
          }
        }
      ]
    },
    {
      "cell_type": "code",
      "source": [
        "# LIT'S check the content of genome in GC \n",
        "def findGCByPos(reads):\n",
        "  gc = [0]*100\n",
        "  totals = [0]*100\n",
        "\n",
        "  for read in reads:\n",
        "    for base in range(len(read)):\n",
        "      if read[base]== 'C' or read[base] == 'G':\n",
        "        gc[base] += 1\n",
        "      totals[base] += 1\n",
        "\n",
        "  for i in range(len(gc)):\n",
        "    if totals[i] > 0:\n",
        "      gc[i] /= float(totals[i])\n",
        "      \n",
        "  return gc\n",
        "\n",
        "gc = findGCByPos(seqs)\n",
        "plt.plot(range(len(gc)), gc)\n",
        "plt.show()\n",
        "\n",
        "'''\n",
        "- the average of %GC in humain genome is always a bit bigger than 0.5 (the same case here)\n",
        "- this fluctuation is probably due to noise, but overal it's stay pretty constant\n",
        "gc content should be pretty constante\n",
        "'''\n",
        "      \n"
      ],
      "metadata": {
        "colab": {
          "base_uri": "https://localhost:8080/",
          "height": 320
        },
        "id": "eSpEY0_Aht1i",
        "outputId": "bcaad02a-ef7e-438f-87c7-c9d9fb104dc0"
      },
      "execution_count": null,
      "outputs": [
        {
          "output_type": "display_data",
          "data": {
            "image/png": "[encoded data removed]",
            "text/plain": [
              "<Figure size 432x288 with 1 Axes>"
            ]
          },
          "metadata": {
            "needs_background": "light"
          }
        },
        {
          "output_type": "execute_result",
          "data": {
            "application/vnd.google.colaboratory.intrinsic+json": {
              "type": "string"
            },
            "text/plain": [
              "\"\\n- the average of %GC in humain genome is always a bit bigger than 0.5 (the same case here)\\n- this fluctuation is probably due to noise, but overal it's stay pretty constant\\ngc content should be pretty constante\\n\""
            ]
          },
          "metadata": {},
          "execution_count": 31
        }
      ]
    },
    {
      "cell_type": "code",
      "source": [
        "#let's count the bases in all reads\n",
        "counts = {'A':0, 'C':0, 'T':0, 'G':0, 'N':0}\n",
        "for seq in seqs:\n",
        "  for base in seq:\n",
        "    counts[base] += 1\n",
        "\n",
        "print(counts)\n",
        "\n",
        "'''\n",
        "N means ahene the base color has not confident. we don't know which base it's represent\n",
        "'''"
      ],
      "metadata": {
        "colab": {
          "base_uri": "https://localhost:8080/",
          "height": 72
        },
        "id": "sXoQwW9PlNIO",
        "outputId": "ce0e9d41-4778-4a81-c5b1-033b4ae99112"
      },
      "execution_count": null,
      "outputs": [
        {
          "output_type": "stream",
          "name": "stdout",
          "text": [
            "{'A': 21132, 'C': 28272, 'T': 21836, 'G': 28742, 'N': 18}\n"
          ]
        },
        {
          "output_type": "execute_result",
          "data": {
            "application/vnd.google.colaboratory.intrinsic+json": {
              "type": "string"
            },
            "text/plain": [
              "\"\\nN means ahene the base color has not confident. we don't know which base it's represent\\n\""
            ]
          },
          "metadata": {},
          "execution_count": 32
        }
      ]
    },
    {
      "cell_type": "code",
      "source": [
        "!wget http://d28rh4a8wq0iu5.cloudfront.net/ads1/data/phix.fa"
      ],
      "metadata": {
        "colab": {
          "base_uri": "https://localhost:8080/"
        },
        "id": "qjcl8FHCtFhQ",
        "outputId": "aacf925a-f56e-4f07-b482-272dfcefe76a"
      },
      "execution_count": null,
      "outputs": [
        {
          "output_type": "stream",
          "name": "stdout",
          "text": [
            "--2022-02-10 09:56:51--  http://d28rh4a8wq0iu5.cloudfront.net/ads1/data/phix.fa\n",
            "Resolving d28rh4a8wq0iu5.cloudfront.net (d28rh4a8wq0iu5.cloudfront.net)... 54.192.19.103, 54.192.19.137, 54.192.19.127, ...\n",
            "Connecting to d28rh4a8wq0iu5.cloudfront.net (d28rh4a8wq0iu5.cloudfront.net)|54.192.19.103|:80... connected.\n",
            "HTTP request sent, awaiting response... 200 OK\n",
            "Length: 5528 (5.4K) [application/octet-stream]\n",
            "Saving to: ‘phix.fa’\n",
            "\n",
            "phix.fa             100%[===================>]   5.40K  --.-KB/s    in 0s      \n",
            "\n",
            "2022-02-10 09:56:53 (361 MB/s) - ‘phix.fa’ saved [5528/5528]\n",
            "\n"
          ]
        }
      ]
    },
    {
      "cell_type": "code",
      "source": [
        "genome_ref = readGenome('phix.fa')"
      ],
      "metadata": {
        "id": "0DkAMjpu0uts"
      },
      "execution_count": null,
      "outputs": []
    },
    {
      "cell_type": "code",
      "source": [
        "def naive(p, t):\n",
        "  occurrences = []\n",
        "  for i in range(len(t) - len(p) + 1):\n",
        "    match = True\n",
        "    for j in range(len(p)):\n",
        "      if not t[i+j] == p[j]:\n",
        "        match = False\n",
        "        break\n",
        "    if match:\n",
        "      occurrences.append(i)\n",
        "  return occurrences"
      ],
      "metadata": {
        "id": "Pwme08bu06Yl"
      },
      "execution_count": null,
      "outputs": []
    },
    {
      "cell_type": "code",
      "source": [
        "t = 'ATGCCGTAATGC'\n",
        "p = 'GC'\n",
        "naive(p, t)"
      ],
      "metadata": {
        "colab": {
          "base_uri": "https://localhost:8080/"
        },
        "id": "XwJ9bnFG1zR8",
        "outputId": "037054d7-2f90-4226-9b03-26e60a0763e1"
      },
      "execution_count": null,
      "outputs": [
        {
          "output_type": "execute_result",
          "data": {
            "text/plain": [
              "[2, 10]"
            ]
          },
          "metadata": {},
          "execution_count": 36
        }
      ]
    },
    {
      "cell_type": "code",
      "source": [
        "import random\n",
        "def generateReads(genome, numReads, readLen):\n",
        "    ''' Generate reads from random positions in the given genome. '''\n",
        "    reads = []\n",
        "    for _ in range(numReads):\n",
        "        start = random.randint(0, len(genome)-readLen) - 1\n",
        "        reads.append(genome[start : start+readLen])\n",
        "    return reads"
      ],
      "metadata": {
        "id": "VsQz9K151-Mm"
      },
      "execution_count": null,
      "outputs": []
    },
    {
      "cell_type": "code",
      "source": [
        "reads = generateReads(genome_ref, 100, 100)\n",
        "numMatched = 0\n",
        "for r in reads:\n",
        "  matches = naive(r, genome_ref)\n",
        "  if len(matches) > 0:\n",
        "    numMatched +=1\n",
        "\n",
        "print('{}/{} reads matched exactly ! '.format(numMatched, len(reads)))"
      ],
      "metadata": {
        "colab": {
          "base_uri": "https://localhost:8080/"
        },
        "id": "XqNShP5P5503",
        "outputId": "a278d23d-d2f7-4ee0-8906-6d320892e02a"
      },
      "execution_count": null,
      "outputs": [
        {
          "output_type": "stream",
          "name": "stdout",
          "text": [
            "100/100 reads matched exactly ! \n"
          ]
        }
      ]
    },
    {
      "cell_type": "code",
      "source": [
        "# let's download the real read\n",
        "!wget --no-check http://d28rh4a8wq0iu5.cloudfront.net/ads1/data/ERR266411_1.first1000.fastq\n"
      ],
      "metadata": {
        "id": "oesBwclP6vfC",
        "colab": {
          "base_uri": "https://localhost:8080/"
        },
        "outputId": "1dcbc8f1-9937-4215-dbac-f45c2debbc5a"
      },
      "execution_count": null,
      "outputs": [
        {
          "output_type": "stream",
          "name": "stdout",
          "text": [
            "--2022-02-10 10:02:31--  http://d28rh4a8wq0iu5.cloudfront.net/ads1/data/ERR266411_1.first1000.fastq\n",
            "Resolving d28rh4a8wq0iu5.cloudfront.net (d28rh4a8wq0iu5.cloudfront.net)... 54.192.19.103, 54.192.19.127, 54.192.19.199, ...\n",
            "Connecting to d28rh4a8wq0iu5.cloudfront.net (d28rh4a8wq0iu5.cloudfront.net)|54.192.19.103|:80... connected.\n",
            "HTTP request sent, awaiting response... 200 OK\n",
            "Length: 254384 (248K) [audio/mpeg]\n",
            "Saving to: ‘ERR266411_1.first1000.fastq’\n",
            "\n",
            "ERR266411_1.first10 100%[===================>] 248.42K   371KB/s    in 0.7s    \n",
            "\n",
            "2022-02-10 10:02:33 (371 KB/s) - ‘ERR266411_1.first1000.fastq’ saved [254384/254384]\n",
            "\n"
          ]
        }
      ]
    },
    {
      "cell_type": "code",
      "source": [
        "phix_reads, _ = readFastq('ERR266411_1.first1000.fastq')"
      ],
      "metadata": {
        "id": "XgXUBqFDFZ9-"
      },
      "execution_count": null,
      "outputs": []
    },
    {
      "cell_type": "code",
      "source": [
        "phix_reads[:4]"
      ],
      "metadata": {
        "colab": {
          "base_uri": "https://localhost:8080/"
        },
        "id": "bx35u54qHM2P",
        "outputId": "71e6e918-9e81-4a01-b11c-ccbd5a6041aa"
      },
      "execution_count": null,
      "outputs": [
        {
          "output_type": "execute_result",
          "data": {
            "text/plain": [
              "['TAAACAAGCAGTAGTAATTCCTGCTTTATCAAGATAATTTTTCGACTCATCAGAAATATCCGAAAGTGTTAACTTCTGCGTCATGGAAGCGATAAAACTC',\n",
              " 'AACAAGCAGTAGTAATTCCTGCTTTATCAAGATAATTTTTCGACTCATCAGAAATATACGAAAGTGTTAACTTCTGCGTCATGGACACGAAAAAACTCCC',\n",
              " 'TAAACAAGCAGTAGTAATTCCTGCTTTATCAAGATAATTTTTCGACTCATCAGAAATATCCGAAAGTGTTAACTTCTGCGTCATGGAAGCGATAAAACTC',\n",
              " 'AACAAGCAGTAGTAATTCCTGCTTTATCAAGATAATTTTTCGACTCATCAGAAATATCCGAAAGTGTTAACTTCTGCGTCATGGAAGCGATAAAACTCTG']"
            ]
          },
          "metadata": {},
          "execution_count": 45
        }
      ]
    },
    {
      "cell_type": "code",
      "source": [
        "numMatched = 0\n",
        "n = 0\n",
        "for r in phix_reads:\n",
        "  r = r[:30] #TAKE ONLY THE firsts 30 bases (optimize numMatched)\n",
        "  matches = naive(r, genome_ref)\n",
        "  matches.extend(naive(reverseComplement(r), genome_ref)) # optimize numMatched\n",
        "  n+=1\n",
        "  if len(matches) > 0:\n",
        "    numMatched+=1\n",
        "print(f'{numMatched}/{n} reads matched the genome')\n"
      ],
      "metadata": {
        "colab": {
          "base_uri": "https://localhost:8080/"
        },
        "id": "bFdHGoM2Fs-C",
        "outputId": "c18e89e6-eb84-42cf-d7e9-5629e5aed8cc"
      },
      "execution_count": null,
      "outputs": [
        {
          "output_type": "stream",
          "name": "stdout",
          "text": [
            "932/1000 reads matchedthe genome\n"
          ]
        }
      ]
    },
    {
      "cell_type": "code",
      "source": [
        ""
      ],
      "metadata": {
        "id": "fks09CeUHLLf"
      },
      "execution_count": null,
      "outputs": []
    },
    {
      "cell_type": "code",
      "source": [
        ""
      ],
      "metadata": {
        "id": "xwCw-QX0HKMS"
      },
      "execution_count": null,
      "outputs": []
    },
    {
      "cell_type": "code",
      "source": [
        "a"
      ],
      "metadata": {
        "id": "5LYG-JBkFu05"
      },
      "execution_count": null,
      "outputs": []
    }
  ]
}